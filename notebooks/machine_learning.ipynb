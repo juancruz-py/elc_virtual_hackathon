{
 "cells": [
  {
   "cell_type": "code",
   "execution_count": 3,
   "metadata": {},
   "outputs": [
    {
     "name": "stderr",
     "output_type": "stream",
     "text": [
      "Using TensorFlow backend.\n"
     ]
    }
   ],
   "source": [
    "#Importar librerias\n",
    "import tensorflow as tf\n",
    "from tensorflow import keras\n",
    "from keras.models import Sequential\n",
    "from keras.layers import Dense, Flatten, Conv2D, MaxPooling2D, Dropout\n",
    "from tensorflow.keras  import layers\n",
    "from keras.utils import to_categorical\n",
    "import numpy as np\n",
    "import matplotlib.pyplot as plt\n",
    "from keras.preprocessing.image import ImageDataGenerator \n",
    "from keras.models import Sequential \n",
    "from keras.layers import Conv2D, MaxPooling2D \n",
    "from keras.layers import Activation, Dropout, Flatten, Dense \n",
    "from keras import backend as K \n",
    "import os\n",
    "from PIL import Image\n",
    "import glob\n",
    "from numpy import asarray\n",
    "\n",
    "\n",
    "plt.style.use(\"fivethirtyeight\")"
   ]
  },
  {
   "cell_type": "code",
   "execution_count": null,
   "metadata": {},
   "outputs": [],
   "source": []
  },
  {
   "cell_type": "code",
   "execution_count": 4,
   "metadata": {},
   "outputs": [],
   "source": [
    "dir_names=[]\n",
    "for files in os.listdir(\"./Dataset\"):\n",
    "   \n",
    "    dir_names.append(files)\n",
    "\n",
    "dir_names.remove('.DS_Store')\n",
    "\n",
    "\n"
   ]
  },
  {
   "cell_type": "code",
   "execution_count": null,
   "metadata": {},
   "outputs": [],
   "source": []
  },
  {
   "cell_type": "code",
   "execution_count": 5,
   "metadata": {},
   "outputs": [],
   "source": [
    "Density1Bening=[\"/Dataset/\"+dir_names[0]+'/'+files  for files in os.listdir('./Dataset/'+dir_names[0]) ]\n",
    "Density2Bening=[\"/Dataset/\"+dir_names[3]+'/'+files  for files in os.listdir('./Dataset/'+dir_names[3]) ]\n",
    "Density3Bening=[\"/Dataset/\"+dir_names[1]+'/'+files  for files in os.listdir('./Dataset/'+dir_names[1]) ]\n",
    "Density4Bening=[\"/Dataset/\"+dir_names[4]+'/'+files  for files in os.listdir('./Dataset/'+dir_names[4]) ]"
   ]
  },
  {
   "cell_type": "code",
   "execution_count": 6,
   "metadata": {},
   "outputs": [],
   "source": [
    "Density1Malignant=[\"/Dataset/\"+dir_names[2]+'/'+files for files in os.listdir('./Dataset/'+dir_names[2]) ]\n",
    "Density2Malignant=[\"/Dataset/\"+dir_names[5]+'/'+files for files in os.listdir('./Dataset/'+dir_names[5]) ]\n",
    "Density3Malignant=[\"/Dataset/\"+dir_names[6]+'/'+files for files in os.listdir('./Dataset/'+dir_names[6]) ]\n",
    "Density4Malignant=[\"/Dataset/\"+dir_names[7]+'/'+files for files in os.listdir('./Dataset/'+dir_names[7]) ]"
   ]
  },
  {
   "cell_type": "code",
   "execution_count": null,
   "metadata": {},
   "outputs": [],
   "source": [
    "\n"
   ]
  },
  {
   "cell_type": "code",
   "execution_count": 7,
   "metadata": {},
   "outputs": [],
   "source": [
    "def test_separator(file_path):\n",
    "    count=0\n",
    "\n",
    "    x_train_image_list = []\n",
    "    x_test_image_list = []\n",
    "    y_train_image_list = []\n",
    "    y_test_image_list = []\n",
    "    \n",
    "    for filename in file_path:\n",
    "        count+=1\n",
    "        \n",
    "        if count<(len(file_path)*0.8):\n",
    "            im=Image.open(r'/Users/admin/Documents/Github Projects/ELC Hackathon{}'.format(filename))\n",
    "            img=im.convert('RGB')\n",
    "            rgb = np.array(im)\n",
    "            x_train_image_list.append(rgb)\n",
    "            \n",
    "            \n",
    "            \n",
    "                        \n",
    "        else:\n",
    "            im=Image.open(r'/Users/admin/Documents/Github Projects/ELC Hackathon{}'.format(filename))\n",
    "            count+=1\n",
    "            img = im.convert('RGB')\n",
    "            rgb = np.array(im)\n",
    "            x_test_image_list.append(rgb)\n",
    "    \n",
    "    return x_train_image_list, y_test_image_list\n",
    "            \n",
    "            \n",
    "    \n"
   ]
  },
  {
   "cell_type": "code",
   "execution_count": 8,
   "metadata": {},
   "outputs": [],
   "source": [
    "train,test= test_separator(Density3Malignant)"
   ]
  },
  {
   "cell_type": "code",
   "execution_count": 9,
   "metadata": {},
   "outputs": [
    {
     "data": {
      "text/plain": [
       "array([[0, 0, 0, ..., 0, 0, 0],\n",
       "       [0, 0, 0, ..., 0, 0, 0],\n",
       "       [0, 0, 0, ..., 0, 0, 0],\n",
       "       ...,\n",
       "       [0, 0, 0, ..., 0, 0, 0],\n",
       "       [0, 0, 0, ..., 0, 0, 0],\n",
       "       [0, 0, 0, ..., 0, 0, 0]], dtype=uint8)"
      ]
     },
     "execution_count": 9,
     "metadata": {},
     "output_type": "execute_result"
    }
   ],
   "source": [
    "train[0]"
   ]
  },
  {
   "cell_type": "code",
   "execution_count": 10,
   "metadata": {},
   "outputs": [
    {
     "ename": "NameError",
     "evalue": "name 'x_train' is not defined",
     "output_type": "error",
     "traceback": [
      "\u001b[0;31m---------------------------------------------------------------------------\u001b[0m",
      "\u001b[0;31mNameError\u001b[0m                                 Traceback (most recent call last)",
      "\u001b[0;32m<ipython-input-10-ab53fe382b7e>\u001b[0m in \u001b[0;36m<module>\u001b[0;34m\u001b[0m\n\u001b[0;32m----> 1\u001b[0;31m \u001b[0mprint\u001b[0m\u001b[0;34m(\u001b[0m\u001b[0mtype\u001b[0m\u001b[0;34m(\u001b[0m\u001b[0mx_train\u001b[0m\u001b[0;34m)\u001b[0m\u001b[0;34m)\u001b[0m\u001b[0;34m\u001b[0m\u001b[0;34m\u001b[0m\u001b[0m\n\u001b[0m\u001b[1;32m      2\u001b[0m \u001b[0mprint\u001b[0m\u001b[0;34m(\u001b[0m\u001b[0mx_train\u001b[0m\u001b[0;34m.\u001b[0m\u001b[0mshape\u001b[0m\u001b[0;34m)\u001b[0m\u001b[0;34m\u001b[0m\u001b[0;34m\u001b[0m\u001b[0m\n\u001b[1;32m      3\u001b[0m \u001b[0;34m\u001b[0m\u001b[0m\n\u001b[1;32m      4\u001b[0m \u001b[0;34m\u001b[0m\u001b[0m\n",
      "\u001b[0;31mNameError\u001b[0m: name 'x_train' is not defined"
     ]
    }
   ],
   "source": [
    "\n",
    "\n"
   ]
  },
  {
   "cell_type": "code",
   "execution_count": null,
   "metadata": {},
   "outputs": [],
   "source": [
    "im=Image.open(r'/Users/admin/Documents/Github Projects/ELC Hackathon{}'.format(Density3Malignant[0]))"
   ]
  },
  {
   "cell_type": "code",
   "execution_count": null,
   "metadata": {},
   "outputs": [],
   "source": []
  },
  {
   "cell_type": "code",
   "execution_count": null,
   "metadata": {},
   "outputs": [],
   "source": [
    "y_train_one_hot=to_categorical(y_train)\n",
    "y_test_one_hot=to_categoril()"
   ]
  },
  {
   "cell_type": "code",
   "execution_count": null,
   "metadata": {},
   "outputs": [],
   "source": []
  },
  {
   "cell_type": "code",
   "execution_count": null,
   "metadata": {},
   "outputs": [],
   "source": []
  }
 ],
 "metadata": {
  "kernelspec": {
   "display_name": "Python 3",
   "language": "python",
   "name": "python3"
  },
  "language_info": {
   "codemirror_mode": {
    "name": "ipython",
    "version": 3
   },
   "file_extension": ".py",
   "mimetype": "text/x-python",
   "name": "python",
   "nbconvert_exporter": "python",
   "pygments_lexer": "ipython3",
   "version": "3.8.1"
  }
 },
 "nbformat": 4,
 "nbformat_minor": 4
}
